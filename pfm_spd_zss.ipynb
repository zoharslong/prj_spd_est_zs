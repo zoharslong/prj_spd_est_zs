{
 "cells": [
  {
   "cell_type": "markdown",
   "metadata": {},
   "source": [
    "### Packages Importation"
   ]
  },
  {
   "cell_type": "code",
   "execution_count": 1,
   "metadata": {
    "scrolled": true
   },
   "outputs": [
    {
     "name": "stdout",
     "output_type": "stream",
     "text": [
      "info: basic slot inserted.\n",
      "info: pyzohar_0.1.8 initiation succeeded.\n",
      "info: slots stand by: ['sub_slt_bsc', 'sub_slt_mdl', 'sub_slt_spd']\n",
      "info: web spider slot inserted.\n"
     ]
    }
   ],
   "source": [
    "from pandas import set_option as pd_ptn\n",
    "pd_ptn('max_rows',100)          # the max rows showing in dataframe\n",
    "pd_ptn('max_columns',100)       # the max columns showing in dataframe\n",
    "from numpy import set_printoptions as np_ptn\n",
    "np_ptn(suppress=True)           # 取消科学计数法\n",
    "from prg_dly.prg_ppc import *"
   ]
  },
  {
   "cell_type": "markdown",
   "metadata": {},
   "source": [
    "### Daily Web Spider"
   ]
  },
  {
   "cell_type": "code",
   "execution_count": 1,
   "metadata": {
    "collapsed": true
   },
   "outputs": [
    {
     "name": "stdout",
     "output_type": "stream",
     "text": [
      "info: basic slot inserted.\n",
      "info: pyzohar_0.1.6 initiation succeeded.\n",
      "info: slots stand by: ['sub_slt_bsc', 'sub_slt_mdl', 'sub_slt_spd']\n",
      "info: web spider slot inserted.\n",
      "info: proxy shifted to http://61.143.39.235:4567.\n",
      "info: proxy shifted to http://183.56.48.107:4545.\n",
      "info: drop duplicate documents, 30 in total 30 left, from <<io: {'tbl': 'tbl_spd_dlg_shd_bke_zs_210317', 'fls': 'dlg_shd_bke_zs_2021-03-26.xlsx', 'cln': 'cln_dlg_shd_bke_zs', 'url': 'https://zs.ke.com/chengjiao/pg1/'}; ds: <class 'pandas.core.frame.DataFrame'>>>.\n",
      "***** dbs_spd . cln_dlg_shd_bke_zs *****\n",
      "info: 30 inserted, 0 updated, 0 dropped.\n",
      "info: drop duplicate documents, 30 in total 30 left, from <<io: {'tbl': 'tbl_spd_dlg_shd_bke_zs_210317', 'fls': 'dlg_shd_bke_zs_2021-03-26.xlsx', 'cln': 'cln_dlg_shd_bke_zs', 'url': 'https://zs.ke.com/chengjiao/pg2/'}; ds: <class 'pandas.core.frame.DataFrame'>>>.\n",
      "***** dbs_spd . cln_dlg_shd_bke_zs *****\n",
      "info: 5 inserted, 25 updated, 0 dropped.\n",
      "info: drop duplicate documents, 30 in total 29 left, from <<io: {'tbl': 'tbl_spd_dlg_shd_bke_zs_210317', 'fls': 'dlg_shd_bke_zs_2021-03-26.xlsx', 'cln': 'cln_dlg_shd_bke_zs', 'url': 'https://zs.ke.com/chengjiao/pg3/'}; ds: <class 'pandas.core.frame.DataFrame'>>>.\n",
      "***** dbs_spd . cln_dlg_shd_bke_zs *****\n",
      "info: 0 inserted, 29 updated, 0 dropped.\n",
      "stop: url not exist.\n",
      "info: proxy shifted to http://113.75.149.120:4565.\n",
      "info: proxy shifted to http://27.44.210.179:4565.\n",
      "info: proxy shifted to http://119.132.88.195:4556.\n",
      "info: drop duplicate documents, 30 in total 30 left, from <<io: {'tbl': 'tbl_spd_dlg_shd_qfg_zs_210320', 'fls': 'dlg_shd_qfg_zs_2021-03-26.xlsx', 'cln': 'cln_dlg_shd_qfg_zs', 'url': 'https://zhongshan.qfang.com/transaction/f1/'}; ds: <class 'pandas.core.frame.DataFrame'>>>.\n",
      "***** dbs_spd . cln_dlg_shd_qfg_zs *****\n",
      "info: 5 inserted, 25 updated, 0 dropped.\n",
      "info: drop duplicate documents, 30 in total 30 left, from <<io: {'tbl': 'tbl_spd_dlg_shd_qfg_zs_210320', 'fls': 'dlg_shd_qfg_zs_2021-03-26.xlsx', 'cln': 'cln_dlg_shd_qfg_zs', 'url': 'https://zhongshan.qfang.com/transaction/f2/'}; ds: <class 'pandas.core.frame.DataFrame'>>>.\n",
      "***** dbs_spd . cln_dlg_shd_qfg_zs *****\n",
      "info: 0 inserted, 30 updated, 0 dropped.\n",
      "info: drop duplicate documents, 30 in total 30 left, from <<io: {'tbl': 'tbl_spd_dlg_shd_qfg_zs_210320', 'fls': 'dlg_shd_qfg_zs_2021-03-26.xlsx', 'cln': 'cln_dlg_shd_qfg_zs', 'url': 'https://zhongshan.qfang.com/transaction/f3/'}; ds: <class 'pandas.core.frame.DataFrame'>>>.\n",
      "***** dbs_spd . cln_dlg_shd_qfg_zs *****\n",
      "info: 0 inserted, 30 updated, 0 dropped.\n",
      "stop: url not exist.\n"
     ]
    },
    {
     "name": "stderr",
     "output_type": "stream",
     "text": [
      "C:\\Users\\slong\\anaconda3\\lib\\site-packages\\pandas\\core\\frame.py:1485: FutureWarning: Using short name for 'orient' is deprecated. Only the options: ('dict', list, 'series', 'split', 'records', 'index') will be used in a future version. Use one of the above to silence this warning.\n",
      "  warnings.warn(\n"
     ]
    },
    {
     "name": "stdout",
     "output_type": "stream",
     "text": [
      "info: tbl_spd_dlg_shd_bke_zs_210317, 35 inserted, 54 updated.\n",
      "info: tbl_spd_dlg_shd_qfg_zs_210320, 1 inserted, 67 updated.\n"
     ]
    }
   ],
   "source": [
    "import pfm_run                 # 运行定常每日爬虫和入库流程"
   ]
  },
  {
   "cell_type": "code",
   "execution_count": 27,
   "metadata": {
    "scrolled": true
   },
   "outputs": [],
   "source": [
    "qfg = szs(lcn=lcn_dlg_shd_qfg_zs)\n",
    "qfg.dlt_cln_dcm({'transaction':'近期内成交'})"
   ]
  },
  {
   "cell_type": "markdown",
   "metadata": {},
   "source": [
    "### mySQL Export into Excel Files"
   ]
  },
  {
   "cell_type": "code",
   "execution_count": 72,
   "metadata": {},
   "outputs": [],
   "source": [
    "bke = szs(lcn=lcn_dlg_shd_bke_zs)\n",
    "bke.lcl_xpt_dlg()\n",
    "qfg = szs(lcn=lcn_dlg_shd_qfg_zs)\n",
    "qfg.lcl_xpt_dlg()"
   ]
  },
  {
   "cell_type": "markdown",
   "metadata": {},
   "source": [
    "### mySQL Check for Nowadays"
   ]
  },
  {
   "cell_type": "code",
   "execution_count": 3,
   "metadata": {},
   "outputs": [
    {
     "data": {
      "text/plain": [
       "[]"
      ]
     },
     "execution_count": 3,
     "metadata": {},
     "output_type": "execute_result"
    }
   ],
   "source": [
    "dtt = dtz(dtz('now').shf(-25,rtn=True)).dtt_to_typ(rtn=True)    # 回推25日\n",
    "qfg = szs(lcn=lcn_dlg_shd_qfg_zs)                               # 中山Q房\n",
    "qfg.sql_mpt('transaction>=\"%s\"' % dtt)\n",
    "qfg.hdr"
   ]
  },
  {
   "cell_type": "code",
   "execution_count": 2,
   "metadata": {},
   "outputs": [
    {
     "data": {
      "text/html": [
       "<div>\n",
       "<style scoped>\n",
       "    .dataframe tbody tr th:only-of-type {\n",
       "        vertical-align: middle;\n",
       "    }\n",
       "\n",
       "    .dataframe tbody tr th {\n",
       "        vertical-align: top;\n",
       "    }\n",
       "\n",
       "    .dataframe thead th {\n",
       "        text-align: right;\n",
       "    }\n",
       "</style>\n",
       "<table border=\"1\" class=\"dataframe\">\n",
       "  <thead>\n",
       "    <tr style=\"text-align: right;\">\n",
       "      <th></th>\n",
       "      <th>BeikeEstateNo</th>\n",
       "      <th>est_rom_sqr</th>\n",
       "      <th>dealDate</th>\n",
       "      <th>totalPrice</th>\n",
       "      <th>unitPrice</th>\n",
       "      <th>houseInfo</th>\n",
       "      <th>positionInfo</th>\n",
       "      <th>dealHouseTxt</th>\n",
       "      <th>dealCycleTxt</th>\n",
       "      <th>EstateName</th>\n",
       "      <th>DistrictName</th>\n",
       "      <th>AreaName</th>\n",
       "      <th>age</th>\n",
       "      <th>__time_ctt</th>\n",
       "    </tr>\n",
       "  </thead>\n",
       "  <tbody>\n",
       "    <tr>\n",
       "      <th>0</th>\n",
       "      <td>6414889865719080</td>\n",
       "      <td>雅居乐铂爵山 3室2厅 98平米</td>\n",
       "      <td>2021-04-09</td>\n",
       "      <td>130万</td>\n",
       "      <td>13266元/平</td>\n",
       "      <td>西北|毛坯</td>\n",
       "      <td>高楼层(共32层)2010年建板楼</td>\n",
       "      <td></td>\n",
       "      <td>\\n挂牌130万\\n成交周期146天\\n</td>\n",
       "      <td>雅居乐铂爵山</td>\n",
       "      <td>火炬</td>\n",
       "      <td>张家边</td>\n",
       "      <td>1998年建成</td>\n",
       "      <td>2021-04-25 08:08:05</td>\n",
       "    </tr>\n",
       "    <tr>\n",
       "      <th>1</th>\n",
       "      <td>6414891286015563</td>\n",
       "      <td>大信芊翠家园 3室2厅 106平米</td>\n",
       "      <td>2021-04-09</td>\n",
       "      <td>120万</td>\n",
       "      <td>11321元/平</td>\n",
       "      <td>南|精装</td>\n",
       "      <td>高楼层(共11层)2010年建板楼</td>\n",
       "      <td>\\n房屋满五年\\n</td>\n",
       "      <td>\\n挂牌125万\\n成交周期14天\\n</td>\n",
       "      <td>大信芊翠家园</td>\n",
       "      <td>港口镇</td>\n",
       "      <td>兴港南路</td>\n",
       "      <td>2001年建成</td>\n",
       "      <td>2021-04-25 08:08:05</td>\n",
       "    </tr>\n",
       "    <tr>\n",
       "      <th>2</th>\n",
       "      <td>6414911987527640</td>\n",
       "      <td>奥园三期一区 3室2厅 120平米</td>\n",
       "      <td>2021-04-09</td>\n",
       "      <td>120万</td>\n",
       "      <td>10000元/平</td>\n",
       "      <td>南|毛坯</td>\n",
       "      <td>低楼层(共31层)2014年建板楼</td>\n",
       "      <td></td>\n",
       "      <td>\\n挂牌125万\\n成交周期504天\\n</td>\n",
       "      <td>奥园三期一区</td>\n",
       "      <td>西区</td>\n",
       "      <td>广丰</td>\n",
       "      <td>2007年建成</td>\n",
       "      <td>2021-04-25 08:08:05</td>\n",
       "    </tr>\n",
       "    <tr>\n",
       "      <th>3</th>\n",
       "      <td>6414963568816699</td>\n",
       "      <td>朗晴假日一期 3室2厅 110.07平米</td>\n",
       "      <td>2021-04-09</td>\n",
       "      <td>150万</td>\n",
       "      <td>13628元/平</td>\n",
       "      <td>南|精装</td>\n",
       "      <td>高楼层(共12层)2006年建塔楼</td>\n",
       "      <td></td>\n",
       "      <td>\\n挂牌158万\\n成交周期373天\\n</td>\n",
       "      <td>朗晴假日一期</td>\n",
       "      <td>东区</td>\n",
       "      <td>槎桥</td>\n",
       "      <td>2005年建成</td>\n",
       "      <td>2021-04-25 08:08:05</td>\n",
       "    </tr>\n",
       "    <tr>\n",
       "      <th>4</th>\n",
       "      <td>6415054405668234</td>\n",
       "      <td>保利国际广场四期 3室2厅 117平米</td>\n",
       "      <td>2021-04-09</td>\n",
       "      <td>137万</td>\n",
       "      <td>11710元/平</td>\n",
       "      <td>南|毛坯</td>\n",
       "      <td>低楼层(共32层)2017年建板塔结合</td>\n",
       "      <td></td>\n",
       "      <td>\\n挂牌138万\\n成交周期40天\\n</td>\n",
       "      <td>保利国际广场四期</td>\n",
       "      <td>港口镇</td>\n",
       "      <td>华师附中</td>\n",
       "      <td>2011年建成</td>\n",
       "      <td>2021-04-25 08:08:05</td>\n",
       "    </tr>\n",
       "  </tbody>\n",
       "</table>\n",
       "</div>"
      ],
      "text/plain": [
       "      BeikeEstateNo           est_rom_sqr    dealDate totalPrice unitPrice  \\\n",
       "0  6414889865719080      雅居乐铂爵山 3室2厅 98平米  2021-04-09       130万  13266元/平   \n",
       "1  6414891286015563     大信芊翠家园 3室2厅 106平米  2021-04-09       120万  11321元/平   \n",
       "2  6414911987527640     奥园三期一区 3室2厅 120平米  2021-04-09       120万  10000元/平   \n",
       "3  6414963568816699  朗晴假日一期 3室2厅 110.07平米  2021-04-09       150万  13628元/平   \n",
       "4  6415054405668234   保利国际广场四期 3室2厅 117平米  2021-04-09       137万  11710元/平   \n",
       "\n",
       "  houseInfo         positionInfo dealHouseTxt          dealCycleTxt  \\\n",
       "0     西北|毛坯    高楼层(共32层)2010年建板楼               \\n挂牌130万\\n成交周期146天\\n   \n",
       "1      南|精装    高楼层(共11层)2010年建板楼    \\n房屋满五年\\n   \\n挂牌125万\\n成交周期14天\\n   \n",
       "2      南|毛坯    低楼层(共31层)2014年建板楼               \\n挂牌125万\\n成交周期504天\\n   \n",
       "3      南|精装    高楼层(共12层)2006年建塔楼               \\n挂牌158万\\n成交周期373天\\n   \n",
       "4      南|毛坯  低楼层(共32层)2017年建板塔结合                \\n挂牌138万\\n成交周期40天\\n   \n",
       "\n",
       "  EstateName DistrictName AreaName      age           __time_ctt  \n",
       "0     雅居乐铂爵山           火炬      张家边  1998年建成  2021-04-25 08:08:05  \n",
       "1     大信芊翠家园          港口镇     兴港南路  2001年建成  2021-04-25 08:08:05  \n",
       "2     奥园三期一区           西区       广丰  2007年建成  2021-04-25 08:08:05  \n",
       "3     朗晴假日一期           东区       槎桥  2005年建成  2021-04-25 08:08:05  \n",
       "4   保利国际广场四期          港口镇     华师附中  2011年建成  2021-04-25 08:08:05  "
      ]
     },
     "execution_count": 2,
     "metadata": {},
     "output_type": "execute_result"
    }
   ],
   "source": [
    "dtt = dtz(dtz('now').shf(-16,rtn=True)).dtt_to_typ(rtn=True)    # 回推16日\n",
    "bke = szs(lcn=lcn_dlg_shd_bke_zs)                               # 中山贝壳\n",
    "bke.sql_mpt('dealDate>=\"%s\"' % dtt)\n",
    "bke.hdr"
   ]
  },
  {
   "cell_type": "code",
   "execution_count": null,
   "metadata": {},
   "outputs": [],
   "source": []
  }
 ],
 "metadata": {
  "kernelspec": {
   "display_name": "Python 3",
   "language": "python",
   "name": "python3"
  },
  "language_info": {
   "codemirror_mode": {
    "name": "ipython",
    "version": 3
   },
   "file_extension": ".py",
   "mimetype": "text/x-python",
   "name": "python",
   "nbconvert_exporter": "python",
   "pygments_lexer": "ipython3",
   "version": "3.8.5"
  }
 },
 "nbformat": 4,
 "nbformat_minor": 2
}
